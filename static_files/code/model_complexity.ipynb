{
 "cells": [
  {
   "cell_type": "markdown",
   "id": "43fee929",
   "metadata": {},
   "source": [
    "* * *\n",
    "<pre> NYU Paris            <i> Artificial intelligence - Fall 2023 </i></pre>\n",
    "* * *\n",
    "\n",
    "\n",
    "<h1 align=\"center\"> Lab 6: Model complexity </h1>\n",
    "\n",
    "<pre align=\"left\"> October 5th 2023               <i> Author: Hicham Janati </i></pre>\n",
    "* * *\n",
    "\n",
    "\n",
    "##### Goals:\n",
    "- Understand the concept of model complexity\n",
    "- Perform model selection and cross validation\n",
    "- Get familiar with different models for classification and regression"
   ]
  },
  {
   "cell_type": "code",
   "execution_count": null,
   "id": "820499c4",
   "metadata": {},
   "outputs": [],
   "source": [
    "import numpy as np\n",
    "import pandas as pd\n",
    "import matplotlib.pyplot as plt\n",
    "\n",
    "url = \"https://raw.githubusercontent.com/hichamjanati/hichamjanati.github.io/master/_data/Motorcycledata.txt\"\n",
    "names = [\"x\", \"y\"]\n",
    "df_raw = pd.read_csv(url, index_col=0, delim_whitespace=True, names=names)\n",
    "print(df_raw.shape)\n",
    "df_raw.head()"
   ]
  },
  {
   "cell_type": "markdown",
   "id": "8bb25066",
   "metadata": {},
   "source": [
    "During a series of simulated collisions of motorcycles, the acceleration of the motorcycle helmet was measured after at several time points slightly before and after the impact. This data depicts the acceleration (y) as a function of time (x). The goal here is to find the best model that can most accurately predict y. "
   ]
  },
  {
   "cell_type": "code",
   "execution_count": null,
   "id": "ce8d0354",
   "metadata": {},
   "outputs": [],
   "source": [
    "ax = df_raw.plot(\"x\", \"y\", marker=\"o\", ls=\"--\", figsize=(12, 6))\n",
    "ax.grid()"
   ]
  },
  {
   "cell_type": "markdown",
   "id": "6083598c",
   "metadata": {},
   "source": [
    "#### Question 1\n",
    "Fit a linear model on the data using numpy only"
   ]
  },
  {
   "cell_type": "code",
   "execution_count": null,
   "id": "c3a46f42",
   "metadata": {},
   "outputs": [],
   "source": []
  },
  {
   "cell_type": "markdown",
   "id": "8c0cbd90",
   "metadata": {},
   "source": [
    "#### Question 2\n",
    "Visualize the obtained model displayed on top of the data"
   ]
  },
  {
   "cell_type": "code",
   "execution_count": null,
   "id": "e33ec499",
   "metadata": {},
   "outputs": [],
   "source": []
  },
  {
   "cell_type": "markdown",
   "id": "1147ac3e",
   "metadata": {},
   "source": [
    "#### Question 3\n",
    "Polynomial regression (fitting a best polynomial on the data) can be done using `np.polyfit` to obtain the coefficients and `polyval` to evaluate it."
   ]
  },
  {
   "cell_type": "markdown",
   "id": "1687dfed",
   "metadata": {},
   "source": [
    "Perform a polynomial regression on the data and compute the accuracy on the entire data for different degrees."
   ]
  },
  {
   "cell_type": "code",
   "execution_count": null,
   "id": "da037db4",
   "metadata": {},
   "outputs": [],
   "source": []
  },
  {
   "cell_type": "markdown",
   "id": "76404fe6",
   "metadata": {},
   "source": [
    "#### Question 4\n",
    "Visualize the fitted curves for degrees 1, 3, 10 on the same plot. Try higher degree polynomial fits. Are higher degrees always better ?"
   ]
  },
  {
   "cell_type": "code",
   "execution_count": null,
   "id": "f713cdea",
   "metadata": {},
   "outputs": [],
   "source": []
  },
  {
   "cell_type": "markdown",
   "id": "2601a528",
   "metadata": {},
   "source": [
    "To evaluate the best polynomial fit using cross-validation, we write our own scikit-learn and use scikit-learn's GridSearchCV to perform cross-validation. \n",
    "\n",
    "#### Question 5\n",
    "Fill the class below and find the best Polynomial fit:\n"
   ]
  },
  {
   "cell_type": "code",
   "execution_count": 4,
   "id": "a61d2f5f",
   "metadata": {},
   "outputs": [],
   "source": [
    "from sklearn.base import RegressorMixin, BaseEstimator\n",
    "from sklearn.model_selection import GridSearchCV, LeaveOneOut\n",
    "\n",
    "class PolynomialFit(BaseEstimator, RegressorMixin):\n",
    "    def __init__(self, degree=5):\n",
    "        # todo\n",
    "    \n",
    "    def fit(self, x, y):\n",
    "        # to do \n",
    "        return self\n",
    "\n",
    "    def predict(self, x):\n",
    "        # to do \n",
    "        return y\n"
   ]
  },
  {
   "cell_type": "code",
   "execution_count": null,
   "id": "bcabd56e",
   "metadata": {},
   "outputs": [],
   "source": []
  },
  {
   "cell_type": "markdown",
   "id": "843c07c4",
   "metadata": {},
   "source": [
    "#### Question 6\n",
    "Perfom a LeaveOneOut cross-validation on the polynomial degree. What is the best degree ?"
   ]
  },
  {
   "cell_type": "code",
   "execution_count": null,
   "id": "e3bac1a3",
   "metadata": {},
   "outputs": [],
   "source": []
  },
  {
   "cell_type": "markdown",
   "id": "213d62cc",
   "metadata": {},
   "source": [
    "#### Question 7\n",
    "See the content of the attribute `cv_results_` of the gridsearch object and plot the mean CV score as a function of the degree. "
   ]
  },
  {
   "cell_type": "code",
   "execution_count": null,
   "id": "12e225ac",
   "metadata": {},
   "outputs": [],
   "source": []
  }
 ],
 "metadata": {
  "kernelspec": {
   "display_name": "Python 3 (ipykernel)",
   "language": "python",
   "name": "python3"
  },
  "language_info": {
   "codemirror_mode": {
    "name": "ipython",
    "version": 3
   },
   "file_extension": ".py",
   "mimetype": "text/x-python",
   "name": "python",
   "nbconvert_exporter": "python",
   "pygments_lexer": "ipython3",
   "version": "3.10.6"
  }
 },
 "nbformat": 4,
 "nbformat_minor": 5
}
