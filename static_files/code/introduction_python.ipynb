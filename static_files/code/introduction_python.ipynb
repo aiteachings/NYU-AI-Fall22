{
 "cells": [
  {
   "cell_type": "markdown",
   "id": "bdea7dd3",
   "metadata": {},
   "source": [
    "* * *\n",
    "<pre> NYU Paris            <i> Artificial intelligence - Fall 2022 </i></pre>\n",
    "* * *\n",
    "\n",
    "\n",
    "<h1 align=\"center\"> Lab 1: Introduction to Python </h1>\n",
    "\n",
    "<pre align=\"left\"> September 8th 2022               <i> Author: Hicham Janati </i></pre>\n",
    "* * *\n",
    "\n",
    "\n",
    "##### Goals:\n",
    "- Have a working Python / Jupyter environment with packages installed\n",
    "- Know where to look for information: external resources & documentation\n",
    "- Discover core packages of the Python ecosystem:\n",
    "    1. `Numpy` for scientific computing\n",
    "    2. `Matplotlib` for plotting and visualization\n",
    "    3. `Pandas` for manipulating heterogenous dataframes\n",
    "    4. `scikit-learn` for Machine learning models"
   ]
  },
  {
   "cell_type": "markdown",
   "id": "503e0e14",
   "metadata": {},
   "source": [
    "### 1 - Getting started with Jupyter\n",
    "1. Anaconda is a large Python distribution software that includes  several Python packages and tools and simplifies their management. If you do not have it installed on your laptop go over to <a href=https://docs.anaconda.com/anaconda/install/>the official documentation</a> and follow the OS dependent installation guidelines.\n",
    "2. Create a labs folder for the Python labs of this course. For me, this path is `/Users/hichamjanati/Documents/work/teaching/NYU/code`. Download the notebook `introduction_python.ipynb` from the [class website](https://aiteachings.github.io/NYU-AI-Fall22/lectures/) and save it in that folder.\n",
    "3. Now we need to launch Jupyter from the labs folder. To do so, open the Anaconda Terminal (Anaconda Prompt). A command line window should pop up. If you are not familiar with line commands, for our purposes all you need to know is:\n",
    "* Know what folder your terminal is in: `pwd` (print working directory) for Linux/Mac | `cd` for windows.\n",
    "* List the content of the current folder: `ls` for Linux/Mac | `dir` for Windows.\n",
    "* Change the current folder: `cd` followed by the subfolder you want to go to. Below, we complete the path with `work/teaching/NYU/code`:\n",
    "\n",
    "![terminal-screenshot](https://aiteachings.github.io/NYU-AI-Fall22/static_files/code/img/terminal.png)\n",
    "\n",
    "4. Now launch Jupyter by running: `jupyter notebook` which should open the browser. You should be able to access and run this notebook."
   ]
  },
  {
   "cell_type": "markdown",
   "id": "0055616d",
   "metadata": {},
   "source": [
    "### 2 - Getting started: Python in Jupyter"
   ]
  },
  {
   "cell_type": "markdown",
   "id": "d354f0f1",
   "metadata": {},
   "source": [
    "#### 2.1 running cells, magic commands and for loops\n",
    "The following Python cell is a naive loop that stores the first 10 million numbers. Click-on then hit `Shift+Enter` to run it."
   ]
  },
  {
   "cell_type": "code",
   "execution_count": 17,
   "id": "e7ccdd63",
   "metadata": {},
   "outputs": [
    {
     "name": "stdout",
     "output_type": "stream",
     "text": [
      "The total is 49999995000000\n",
      "CPU times: user 1.2 s, sys: 54.9 ms, total: 1.26 s\n",
      "Wall time: 1.26 s\n"
     ]
    }
   ],
   "source": [
    "%%time\n",
    "\n",
    "N = 10_000_000 # underscores in whole numbers are ignored by Python\n",
    "\n",
    "numbers = []  # create an empty list\n",
    "for ii in range(N):\n",
    "    numbers.append(ii) # add the number to the list\n",
    "total = sum(numbers)\n",
    "\n",
    "print(f\"The total is {total}\")"
   ]
  },
  {
   "cell_type": "markdown",
   "id": "5593abae",
   "metadata": {},
   "source": [
    "The `%%time` in the beginning of the cell is called a _magic command_ that keeps track of the time it took the CPU to run the entire cell. Magic commands with one percentage apply for one lines only:"
   ]
  },
  {
   "cell_type": "code",
   "execution_count": 18,
   "id": "2d39916e",
   "metadata": {},
   "outputs": [
    {
     "name": "stdout",
     "output_type": "stream",
     "text": [
      "The total is 49999995000000\n",
      "CPU times: user 609 ms, sys: 105 ms, total: 714 ms\n",
      "Wall time: 713 ms\n"
     ]
    }
   ],
   "source": [
    "%time print(\"The total is\", sum([ii for ii in range(N)]))"
   ]
  },
  {
   "cell_type": "markdown",
   "id": "6160f6c9",
   "metadata": {},
   "source": [
    "###### Question 1: \n",
    "Can you guess why is this one-liner 2x faster than the code above ?"
   ]
  },
  {
   "cell_type": "markdown",
   "id": "4f0b9a3e",
   "metadata": {},
   "source": [
    "##### 2.2 Jupyter cells: code, markdown and shortcuts"
   ]
  },
  {
   "cell_type": "markdown",
   "id": "2b903397",
   "metadata": {},
   "source": [
    "One of the main advantages of Jupyter is the ability to alternate between text cells (such as the one you are reading right now) and Python cells. Double-click on this text to edit it. "
   ]
  },
  {
   "cell_type": "markdown",
   "id": "a7b56566",
   "metadata": {},
   "source": [
    "Text cells are actually *Markdown* cells. Markdown is a _super_ light formatting language. As you probably noticed by editing some of these cells, **double asterisks make text bold**, while _underscores make text italic_. But I digress, Markdown is a long story for another day, check [the documentation](https://www.markdownguide.org/getting-started/) for more. More importantly, here is how to create one:"
   ]
  },
  {
   "cell_type": "markdown",
   "id": "f451e4eb",
   "metadata": {},
   "source": [
    "1. Enable the _command mode_ by hitting `Esc`. Command mode in Jupyter makes the cursor disappear.\n",
    "2. Press `M` to switch from code to Markdown\n",
    "3. Or press `Y` to switch from Markdown to code.\n",
    "\n",
    "Several other shortcuts exist in the _command mode_. The ones I usually are:\n",
    "1. `A` to add a new cell above\n",
    "2. `B` to add a new cell below\n",
    "3. `H` to open the help and check all other shortcuts\n",
    "\n",
    "Keep in mind these shortcuts only work in Command Mode (i.e after pressing `Esc`)."
   ]
  },
  {
   "cell_type": "markdown",
   "id": "f5097756",
   "metadata": {},
   "source": [
    "#### 2.3 The Numpy library: speed and clarity"
   ]
  },
  {
   "cell_type": "markdown",
   "id": "fafa6faa",
   "metadata": {},
   "source": [
    "Let's write code performing the same counting operation above but using the `Numpy` library. "
   ]
  },
  {
   "cell_type": "code",
   "execution_count": 10,
   "id": "e50f1dfd",
   "metadata": {},
   "outputs": [],
   "source": [
    "import numpy as np"
   ]
  },
  {
   "cell_type": "code",
   "execution_count": 16,
   "id": "87bc6d05",
   "metadata": {},
   "outputs": [
    {
     "name": "stdout",
     "output_type": "stream",
     "text": [
      "The total is 49999995000000\n",
      "CPU times: user 136 ms, sys: 81.3 ms, total: 218 ms\n",
      "Wall time: 218 ms\n"
     ]
    }
   ],
   "source": [
    "%%time\n",
    "N = 10_000_000\n",
    "numbers = np.arange(N)  # creates an array of integers from 0 to N-1\n",
    "total = numbers.sum()   # sums the array\n",
    "print(f\"The total is {total}\")"
   ]
  },
  {
   "cell_type": "markdown",
   "id": "0a61b40d",
   "metadata": {},
   "source": [
    "As you can see `Numpy` is 3x faster than list comprensions and code is much shorter. `Numpy` should always be preferred to native Python lists when dealing with nothing but numbers."
   ]
  },
  {
   "cell_type": "code",
   "execution_count": null,
   "id": "ce431ede",
   "metadata": {},
   "outputs": [],
   "source": []
  }
 ],
 "metadata": {
  "kernelspec": {
   "display_name": "Python 3 (ipykernel)",
   "language": "python",
   "name": "python3"
  },
  "language_info": {
   "codemirror_mode": {
    "name": "ipython",
    "version": 3
   },
   "file_extension": ".py",
   "mimetype": "text/x-python",
   "name": "python",
   "nbconvert_exporter": "python",
   "pygments_lexer": "ipython3",
   "version": "3.9.1"
  }
 },
 "nbformat": 4,
 "nbformat_minor": 5
}
