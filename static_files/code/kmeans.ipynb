{
 "cells": [
  {
   "cell_type": "markdown",
   "id": "4d6b8c8b",
   "metadata": {},
   "source": [
    "* * *\n",
    "<pre> NYU Paris            <i> Artificial intelligence - Fall 2023 </i></pre>\n",
    "* * *\n",
    "\n",
    "\n",
    "<h1 align=\"center\"> Lab 10: Unsupervised learning (II) - K-means clustering </h1>\n",
    "\n",
    "<pre align=\"left\"> November 9th 2023             <i> Author: Hicham Janati </i></pre>\n",
    "* * *\n",
    "\n",
    "\n",
    "##### Goals:\n",
    "- More practice with numpy and matplotlib\n",
    "- Understand the pros and cons of K-means clustering"
   ]
  },
  {
   "cell_type": "code",
   "execution_count": null,
   "id": "7d064306",
   "metadata": {},
   "outputs": [],
   "source": [
    "import numpy as np\n",
    "import matplotlib.pyplot as plt\n",
    "from matplotlib import cm\n",
    "\n",
    "seed = 42"
   ]
  },
  {
   "cell_type": "markdown",
   "id": "ccd5d97e",
   "metadata": {},
   "source": [
    "# Part 1: Implementing K-means\n",
    "\n",
    "In the past labs, we have mainly seen:\n",
    "- dimension reduction (with PCA)\n",
    "- classification (i.e supervised learning)\n",
    "\n",
    "In practice however, the vast majority of data does not have labels. Finding structure and patterns in data without labels is called unsupervised learning. Given a specified number of clusters K, the K-means algorithm forms a partition of your data with K different groups while trying to:\n",
    "- minimize the variance within groups (i.e samples forming a group must be close to each other)\n",
    "- maximize the variance between groups (i.e groups must be far from each other)."
   ]
  },
  {
   "cell_type": "code",
   "execution_count": null,
   "id": "d957f78b",
   "metadata": {},
   "outputs": [],
   "source": [
    "from sklearn.datasets import make_blobs\n",
    "\n",
    "X, _ = make_blobs(500, centers=3, n_features=2, cluster_std=1., random_state=seed)\n",
    "\n",
    "plt.figure()\n",
    "plt.grid()\n",
    "plt.scatter(X[:, 0], X[:, 1])\n",
    "plt.show()\n"
   ]
  },
  {
   "cell_type": "markdown",
   "id": "a35d5b94",
   "metadata": {},
   "source": [
    "It is called K-means because it only consists of two steps. Starting from an initialization of K mean values $C_k$:\n",
    "- For each sample $x$ of your data, find the mean (centroid) $C_k$ that is closest to x. Assign $x$ to group $k$.\n",
    "- Update the mean $C_k$ of each group k\n",
    "\n",
    "### Question 1\n",
    "Write a function that generates K random initializations for the group centroids $C_k$. "
   ]
  },
  {
   "cell_type": "code",
   "execution_count": null,
   "id": "432d17ad",
   "metadata": {},
   "outputs": [],
   "source": [
    "def init_centroids(K, dimension=2, seed=None):\n",
    "    \n",
    "    # Todo\n",
    "    \n",
    "    return centroids"
   ]
  },
  {
   "cell_type": "markdown",
   "id": "40c1ff75",
   "metadata": {},
   "source": [
    "### Question 2\n",
    "Write a function that takes the data X (n, d) and returns an array (n,) containing the id of the cluster it should be assigned to. For example, the function returns [0, 0, 2, 1, 2] if the first two samples are assigned to cluster 0, the 3rd and 5th samples to cluster 2 and the 4th sample to cluster 1. \n",
    "\n",
    "_Hint: look up `sklearn.metrics.pairwise_distances` and the numpy method of an array `array.argmin`_"
   ]
  },
  {
   "cell_type": "code",
   "execution_count": null,
   "id": "bd07bdf1",
   "metadata": {},
   "outputs": [],
   "source": []
  },
  {
   "cell_type": "code",
   "execution_count": null,
   "id": "abd8866b",
   "metadata": {},
   "outputs": [],
   "source": [
    "def assign_labels(X, centroids):\n",
    "\n",
    "    return labels"
   ]
  },
  {
   "cell_type": "markdown",
   "id": "1c588d61",
   "metadata": {},
   "source": [
    "### Question 3\n",
    "The following cell visualizes the centroids and their assigned samples. Initialize the centroids and compute a first set of labels of your data and visualize them. Can you think of a smarter way to initialize these centroids using the data ? (No need to implement it for now)."
   ]
  },
  {
   "cell_type": "code",
   "execution_count": null,
   "id": "078fc25f",
   "metadata": {},
   "outputs": [],
   "source": [
    "def plot_kmeans(X, labels, centroids):\n",
    "    K = len(centroids)\n",
    "    colors = np.array(cm.Set1(np.linspace(0., 1, K)))\n",
    "    plt.figure()\n",
    "    plt.grid()\n",
    "    plt.scatter(X[:, 0], X[:, 1], color=colors[labels], s=4, alpha=0.3)\n",
    "    plt.scatter(centroids[:, 0], centroids[:, 1], color=colors, marker=\"^\", s=100)\n",
    "    plt.show()\n"
   ]
  },
  {
   "cell_type": "code",
   "execution_count": null,
   "id": "8169bff3",
   "metadata": {},
   "outputs": [],
   "source": [
    "X, _ = make_blobs(500, centers=3, n_features=2, cluster_std=3, random_state=seed)\n"
   ]
  },
  {
   "cell_type": "markdown",
   "id": "f887d6ac",
   "metadata": {},
   "source": [
    "### Question 4\n",
    "Write a function that computes the new centroids using the assigned labels. Visualize the new centroids. Repeat these steps (label assignment + centroid update) for 2-3 steps. Does it converge ?"
   ]
  },
  {
   "cell_type": "code",
   "execution_count": null,
   "id": "fc4d0f43",
   "metadata": {
    "scrolled": false
   },
   "outputs": [],
   "source": [
    "def update_centroids(X, labels, centroids):\n",
    "\n",
    "    return centroids"
   ]
  },
  {
   "cell_type": "code",
   "execution_count": null,
   "id": "f196e5c6",
   "metadata": {},
   "outputs": [],
   "source": [
    "centroids = init_centroids(3, 2)"
   ]
  },
  {
   "cell_type": "markdown",
   "id": "7380e1cf",
   "metadata": {},
   "source": [
    "### Question 5\n",
    "The K-means algorithm repeats these operations until the centroids stop changing. Write a function summing up all these operations."
   ]
  },
  {
   "cell_type": "code",
   "execution_count": null,
   "id": "894781c3",
   "metadata": {},
   "outputs": [],
   "source": [
    "def Kmeans(X, K=3, maxiter=100, plot_steps=False, seed=None):\n",
    "\n",
    "    return labels, centroids\n"
   ]
  },
  {
   "cell_type": "code",
   "execution_count": null,
   "id": "accdeb52",
   "metadata": {},
   "outputs": [],
   "source": []
  },
  {
   "cell_type": "markdown",
   "id": "1894cc3c",
   "metadata": {},
   "source": [
    "### Question 6\n",
    "\n",
    "Generate different sets of data examples (changing the `cluster_std` parameter) and visualize the K-means output. What do you notice ? "
   ]
  },
  {
   "cell_type": "code",
   "execution_count": null,
   "id": "f87bfa3c",
   "metadata": {
    "scrolled": true
   },
   "outputs": [],
   "source": []
  },
  {
   "cell_type": "markdown",
   "id": "15716126",
   "metadata": {},
   "source": [
    "### Question 7\n",
    "Try Kmeans with this new data. Choose K wisely. Is it normal that Kmeans fails ?"
   ]
  },
  {
   "cell_type": "code",
   "execution_count": null,
   "id": "e68e0164",
   "metadata": {
    "scrolled": true
   },
   "outputs": [],
   "source": [
    "from sklearn.datasets import make_circles\n",
    "\n",
    "X, y = make_circles(500, noise=0.1, factor=0.2)\n",
    "labels, centroids = Kmeans(X, K=2, plot_steps=True)"
   ]
  },
  {
   "cell_type": "markdown",
   "id": "bbb93bd6",
   "metadata": {},
   "source": [
    "# Part 2: Compressing images with K-means\n",
    "Is it often the case that data is redundant. Take the example of the image below:"
   ]
  },
  {
   "cell_type": "code",
   "execution_count": null,
   "id": "f04490ed",
   "metadata": {},
   "outputs": [],
   "source": [
    "from sklearn.datasets import load_sample_image\n",
    "\n",
    "flower = load_sample_image('china.jpg') / 255\n",
    "flower_shape = flower.shape\n",
    "flower_colors = flower.reshape(-1, 3)\n",
    "\n",
    "print(\"Image original shape: \", flower_shape)\n",
    "print(\"Flower colors shape: \", flower_colors.shape)\n",
    "\n",
    "max_color = flower.max()\n",
    "\n",
    "plt.figure()\n",
    "plt.imshow(flower)\n",
    "plt.show()"
   ]
  },
  {
   "cell_type": "markdown",
   "id": "9659accb",
   "metadata": {},
   "source": [
    "### Question 8\n",
    "We would like to replace all colors by replacing them with the centroid they're closest to. Let's for example reduce them to 16. Run the Kmeans algorithm with K=16 on the downsampled colors array X. Then create a new image with the replaced colors and visualize it."
   ]
  },
  {
   "cell_type": "code",
   "execution_count": null,
   "id": "12ff5509",
   "metadata": {},
   "outputs": [],
   "source": [
    "from sklearn.utils import shuffle\n",
    "X = shuffle(flower_colors, random_state=0, n_samples=10_000)\n"
   ]
  },
  {
   "cell_type": "markdown",
   "id": "7259134b",
   "metadata": {},
   "source": [
    "### Question 9\n",
    "Play around with the value of n_clusters (K). What do you notice ?"
   ]
  },
  {
   "cell_type": "code",
   "execution_count": null,
   "id": "41b4a674",
   "metadata": {},
   "outputs": [],
   "source": []
  },
  {
   "cell_type": "markdown",
   "id": "bb8a92c1",
   "metadata": {},
   "source": [
    "### Question 10\n",
    "Try this out but using the sklearn implementation of Kmeans. Do you obtain similar results ? Can you explain the difference ?"
   ]
  },
  {
   "cell_type": "code",
   "execution_count": null,
   "id": "ce41d741",
   "metadata": {},
   "outputs": [],
   "source": []
  }
 ],
 "metadata": {
  "kernelspec": {
   "display_name": "Python 3 (ipykernel)",
   "language": "python",
   "name": "python3"
  },
  "language_info": {
   "codemirror_mode": {
    "name": "ipython",
    "version": 3
   },
   "file_extension": ".py",
   "mimetype": "text/x-python",
   "name": "python",
   "nbconvert_exporter": "python",
   "pygments_lexer": "ipython3",
   "version": "3.10.6"
  }
 },
 "nbformat": 4,
 "nbformat_minor": 5
}
