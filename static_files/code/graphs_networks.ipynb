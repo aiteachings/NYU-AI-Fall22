{
 "cells": [
  {
   "cell_type": "markdown",
   "id": "bdea7dd3",
   "metadata": {},
   "source": [
    "* * *\n",
    "<pre> NYU Paris            <i> Artificial intelligence - Fall 2022 </i></pre>\n",
    "* * *\n",
    "\n",
    "\n",
    "<h1 align=\"center\"> Lab 11: Graphs and networks in machine learning  </h1>\n",
    "\n",
    "<pre align=\"left\"> November 10th 2022               <i> Author: Hicham Janati </i></pre>\n",
    "* * *\n",
    "\n"
   ]
  },
  {
   "cell_type": "markdown",
   "id": "0055616d",
   "metadata": {},
   "source": [
    "\n",
    "\n",
    "# Part I: Introduction to Networkx"
   ]
  },
  {
   "cell_type": "markdown",
   "id": "ebf7799e",
   "metadata": {},
   "source": [
    "Networks (or graphs) are a very powerful tool through which one can model relationships and structure data with a lot of flexibility. A graph is a collection of nodes (elements of some set) that may or may not be connected by an edge. The purpose of this first section is to get familiar with manipulating graphs using Networkx. We start with a simple examples of the parisian subway:\n",
    "![metro](https://aiteachings.github.io/NYU-AI-Fall23/static_files/data/got/metro.png)\n"
   ]
  },
  {
   "cell_type": "code",
   "execution_count": null,
   "id": "af14e642",
   "metadata": {},
   "outputs": [],
   "source": [
    "%matplotlib inline\n",
    "import networkx as nx\n",
    "import numpy as np\n",
    "import matplotlib\n",
    "import matplotlib.pyplot as plt"
   ]
  },
  {
   "cell_type": "markdown",
   "id": "84487309",
   "metadata": {},
   "source": [
    "### Question 1\n",
    "Read and run the following code multiple times. What do you notice ?"
   ]
  },
  {
   "cell_type": "code",
   "execution_count": null,
   "id": "a1b94cba",
   "metadata": {},
   "outputs": [],
   "source": [
    "G = nx.Graph()\n",
    "\n",
    "G.add_edge(\"A\", \"B\", somedata=1)\n",
    "G.add_node(\"F\")\n",
    "G.add_edge(\"C\", \"A\", somedata=1)\n",
    "G.add_edge(\"E\", \"A\", somedata=10)\n",
    "G.add_edge(\"E\", \"B\", somedata=1)\n",
    "\n",
    "nx.draw_networkx(G)"
   ]
  },
  {
   "cell_type": "markdown",
   "id": "06b23586",
   "metadata": {},
   "source": [
    "### Question 2\n",
    "We can add any data to an edge by appending keywords like this:"
   ]
  },
  {
   "cell_type": "code",
   "execution_count": null,
   "id": "f342f8aa",
   "metadata": {},
   "outputs": [],
   "source": [
    "G.add_edge(\"F\", \"Z\", weight=15., somedata=403, someotherdata=\"somevalue\", eleke=4404.)\n",
    "G.add_edge(\"A\", \"B\", weight=10., somedata=300, someotherdata=\"someothervalue\")\n",
    "\n",
    "nx.draw_networkx(G)"
   ]
  },
  {
   "cell_type": "markdown",
   "id": "64f53ca2",
   "metadata": {},
   "source": [
    "This additional data can be obtained from the edge:"
   ]
  },
  {
   "cell_type": "code",
   "execution_count": null,
   "id": "4d458724",
   "metadata": {},
   "outputs": [],
   "source": [
    "G.get_edge_data(\"F\", \"Z\")"
   ]
  },
  {
   "cell_type": "markdown",
   "id": "338835b0",
   "metadata": {},
   "source": [
    "As well as for all the edges and a specific variable:"
   ]
  },
  {
   "cell_type": "code",
   "execution_count": null,
   "id": "3973e3a0",
   "metadata": {},
   "outputs": [],
   "source": [
    "nx.get_edge_attributes(G, \"somedata\")"
   ]
  },
  {
   "cell_type": "markdown",
   "id": "d72e393c",
   "metadata": {},
   "source": [
    "Create a graph `M` where the nodes are the stations in the image above (you can ignore Line 12 for the sake of simplicity). Add a `time` and `distance` variables for all edges using the time (mn) and distance (meters) conventions:\n",
    "- metro change: 1 | 100\n",
    "- metro-metro: 2 | 1500\n",
    "- RER-RER: 2 | 2000\n",
    "- RER change: 4 | 200\n"
   ]
  },
  {
   "cell_type": "code",
   "execution_count": null,
   "id": "d0f961c4",
   "metadata": {},
   "outputs": [],
   "source": []
  },
  {
   "cell_type": "markdown",
   "id": "7af05df9",
   "metadata": {},
   "source": [
    "### Question 3\n",
    "The function `nx.shortest_path` provides the list of nodes that constitute the shortest path between two given nodes:"
   ]
  },
  {
   "cell_type": "code",
   "execution_count": null,
   "id": "09fbd246",
   "metadata": {},
   "outputs": [],
   "source": [
    "nx.shortest_path(G, \"E\", \"C\")"
   ]
  },
  {
   "cell_type": "code",
   "execution_count": null,
   "id": "e0c0e179",
   "metadata": {},
   "outputs": [],
   "source": [
    "nx.shortest_path_length(G, \"E\", \"C\")"
   ]
  },
  {
   "cell_type": "markdown",
   "id": "b0d9ab66",
   "metadata": {},
   "source": [
    "Compute the shortest path (and its length) between \"Saint-Germain\" and \"Clunny\". Check the documentation of these functions to select the appropriate criterion. Is the shortest path in time and distance the same ?\n"
   ]
  },
  {
   "cell_type": "code",
   "execution_count": null,
   "id": "4923f90e",
   "metadata": {},
   "outputs": [],
   "source": []
  },
  {
   "cell_type": "markdown",
   "id": "4e3ba549",
   "metadata": {},
   "source": [
    "### Question 4\n",
    "To draw the graph with edge lengths respecting the given data, you need to first generate node positions using the data:"
   ]
  },
  {
   "cell_type": "code",
   "execution_count": null,
   "id": "60c544ef",
   "metadata": {},
   "outputs": [],
   "source": [
    "G = nx.Graph()\n",
    "\n",
    "G.add_edge(\"A\", \"B\", somedata=10, somedata_inv=1/10.)\n",
    "G.add_edge(\"A\", \"C\", somedata=1, somedata_inv=1.)\n",
    "\n",
    "positions = nx.spring_layout(G, weight=\"somedata_inv\")\n",
    "nx.draw_networkx(G, positions)"
   ]
  },
  {
   "cell_type": "markdown",
   "id": "9770f4d1",
   "metadata": {},
   "source": [
    "Draw the metro graph with both criteria.  You can add edge labels (with your data attribute) using: `nx.draw_networkx_edge_labels` as shown below. Does the shortest path make sense visually ? Propose an idea to fix the counter-intuitive displayed labeling."
   ]
  },
  {
   "cell_type": "code",
   "execution_count": null,
   "id": "8e5211ff",
   "metadata": {},
   "outputs": [],
   "source": []
  },
  {
   "cell_type": "markdown",
   "id": "bb2fa986",
   "metadata": {},
   "source": [
    "# Part II: graph clustering\n",
    "\n",
    "We start by introducing two concepts:\n",
    "\n",
    "### A)  - Betweeness centrality\n",
    "The shortest path between nodes can be used to define the concept (quantity) of betweeness centrality of an edge. An edge has high _betweeness centrality_ if among all possible shortest paths between _all_ the nodes of the graph\n",
    "a large proportion includes it. Consider the case of a network with two islands linked by a bridge. The edge conssituting the bridge would be present in any shortest path between nodes from different islands:"
   ]
  },
  {
   "cell_type": "code",
   "execution_count": null,
   "id": "16d18c18",
   "metadata": {},
   "outputs": [],
   "source": [
    "G = nx.Graph()\n",
    "\n",
    "G.add_edge(\"A\", \"B\", somedata=10)\n",
    "G.add_edge(\"A\", \"C\", somedata=2)\n",
    "\n",
    "G.add_edge(\"A\", \"E\", somedata=3)\n",
    "G.add_edge(\"E\", \"C\", somedata=2)\n",
    "\n",
    "G.add_edge(\"B\", \"F\", somedata=3)\n",
    "G.add_edge(\"B\", \"R\", somedata=2)\n",
    "G.add_edge(\"F\", \"R\", somedata=2)\n",
    "\n",
    "positions = nx.spring_layout(G, weight=\"somedata\")\n",
    "\n",
    "edge_data = nx.get_edge_attributes(G, \"somedata\")\n",
    "nx.draw_networkx_edge_labels(G, positions, edge_data)\n",
    "nx.draw_networkx(G, positions)"
   ]
  },
  {
   "cell_type": "code",
   "execution_count": null,
   "id": "3ab57c4b",
   "metadata": {},
   "outputs": [],
   "source": [
    "nx.betweenness_centrality(G, weight=\"somedata\")"
   ]
  },
  {
   "cell_type": "markdown",
   "id": "6fabbcaa",
   "metadata": {},
   "source": [
    "### B) - Node importance\n",
    "The importance (or degree) of a node can be defined as the total number of edges (weighted or not) it has. We can display nodes with size proportional to their importance. The argument `nodelist` can also be used to plot a subset of the graph."
   ]
  },
  {
   "cell_type": "code",
   "execution_count": null,
   "id": "d11aa001",
   "metadata": {},
   "outputs": [],
   "source": [
    "importance = dict(G.degree(weight=\"somedata\"))\n",
    "nodelist = list(importance.keys())\n",
    "sizes = 50 * np.array([importance[key] for key in nodelist])\n",
    "nx.draw_networkx_edge_labels(G, positions, edge_data)\n",
    "nx.draw_networkx(G, positions, nodelist=nodelist, node_size=sizes)"
   ]
  },
  {
   "cell_type": "markdown",
   "id": "f0a3256a",
   "metadata": {},
   "source": [
    " This notion can be used to `prune` a graph and detect communities. Starting from a graph, the Girvan Newman algorithm loops over all edges and removes the \"most important edge\" at each iteration until no edges are left. The obtained  result can be thought of as a \"tree\"."
   ]
  },
  {
   "cell_type": "markdown",
   "id": "afe2e2db",
   "metadata": {},
   "source": [
    "## Game of thrones communities"
   ]
  },
  {
   "cell_type": "markdown",
   "id": "59a4eaeb",
   "metadata": {},
   "source": [
    "You are now ready to apply this concepts to a real dataset consisting of interactions between Game of thrones characters. Two characters (nodes) interact if they are mentioned within 15 consecutive words in a GOT book."
   ]
  },
  {
   "cell_type": "code",
   "execution_count": null,
   "id": "6f879fc4",
   "metadata": {},
   "outputs": [],
   "source": [
    "import pandas as pd\n",
    "df = pd.read_csv(\"https://aiteachings.github.io/NYU-AI-Fall22/static_files/data/got/asoiaf-book1-edges.csv\")\n",
    "df"
   ]
  },
  {
   "cell_type": "code",
   "execution_count": null,
   "id": "b511ff2c",
   "metadata": {},
   "outputs": [],
   "source": [
    "def got_graph(book_id):\n",
    "    df = pd.read_csv(f\"https://aiteachings.github.io/NYU-AI-Fall22/static_files/data/got/asoiaf-book{book_id}-edges.csv\")\n",
    "    df[\"weight_inv\"] = 1/df.weight * 1000.\n",
    "    graph = nx.from_pandas_edgelist(df, source='Source', target='Target', edge_attr=['weight', 'weight_inv'])\n",
    "    return graph\n",
    "\n",
    "graph = got_graph(1)"
   ]
  },
  {
   "cell_type": "markdown",
   "id": "728964ac",
   "metadata": {},
   "source": [
    "We create a graph from this edges datasets:"
   ]
  },
  {
   "cell_type": "code",
   "execution_count": null,
   "id": "acca208e",
   "metadata": {},
   "outputs": [],
   "source": [
    "graph.edges"
   ]
  },
  {
   "cell_type": "markdown",
   "id": "bde59226",
   "metadata": {},
   "source": [
    "### Question 5:\n",
    "Find the top 10 important characters.\n",
    "\n",
    "_Tip: Find a smart way to sort a dictionary by looking up the extra args of `sorted`_"
   ]
  },
  {
   "cell_type": "code",
   "execution_count": null,
   "id": "5326acbe",
   "metadata": {},
   "outputs": [],
   "source": []
  },
  {
   "cell_type": "markdown",
   "id": "edb0aa2f",
   "metadata": {},
   "source": [
    "### Question 6:\n",
    "Visualize the graph of the top 10 important characters.\n",
    "\n",
    "_Tip: Create a subgraph_."
   ]
  },
  {
   "cell_type": "code",
   "execution_count": null,
   "id": "da6dc18b",
   "metadata": {},
   "outputs": [],
   "source": []
  },
  {
   "cell_type": "markdown",
   "id": "1ce2642b",
   "metadata": {},
   "source": [
    "### Question 7\n",
    "Read the dataset of the five books. Does this top 10 evolve as expected from the series ?"
   ]
  },
  {
   "cell_type": "code",
   "execution_count": null,
   "id": "3568a4fa",
   "metadata": {},
   "outputs": [],
   "source": []
  },
  {
   "cell_type": "markdown",
   "id": "da02f7cb",
   "metadata": {},
   "source": [
    "### Question 8\n",
    "Repeat question 6-7 but for the betweeness-centrality score. Does it make sense to use `weight` here ?"
   ]
  },
  {
   "cell_type": "code",
   "execution_count": null,
   "id": "45728d5f",
   "metadata": {},
   "outputs": [],
   "source": []
  },
  {
   "cell_type": "markdown",
   "id": "96a50c82",
   "metadata": {},
   "source": [
    "### Question 9\n",
    "Run the girvan newman algorithm and visualize the graph of each community (top 5 important characters of each community). Do the communities make sense from a story perspective ?"
   ]
  },
  {
   "cell_type": "code",
   "execution_count": null,
   "id": "4ebf2eb8",
   "metadata": {},
   "outputs": [],
   "source": [
    "from networkx.algorithms.community.centrality import girvan_newman"
   ]
  },
  {
   "cell_type": "code",
   "execution_count": null,
   "id": "ec446c12",
   "metadata": {},
   "outputs": [],
   "source": []
  }
 ],
 "metadata": {
  "kernelspec": {
   "display_name": "Python 3 (ipykernel)",
   "language": "python",
   "name": "python3"
  },
  "language_info": {
   "codemirror_mode": {
    "name": "ipython",
    "version": 3
   },
   "file_extension": ".py",
   "mimetype": "text/x-python",
   "name": "python",
   "nbconvert_exporter": "python",
   "pygments_lexer": "ipython3",
   "version": "3.10.6"
  }
 },
 "nbformat": 4,
 "nbformat_minor": 5
}
